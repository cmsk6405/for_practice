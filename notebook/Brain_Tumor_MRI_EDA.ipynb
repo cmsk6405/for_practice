{
 "cells": [
  {
   "cell_type": "markdown",
   "metadata": {},
   "source": [
    "# data - kaggle - https://www.kaggle.com/datasets/mohammadhossein77/brain-tumors-dataset\n",
    "# codes - kaggle - https://www.kaggle.com/code/afsananadia/nadia-nova-brain-tumors-mri-project#A-Clean-Brain-Tumor-Dataset-for-Advanced-Medical-Research:\n",
    "# https://www.kaggle.com/code/tanvirnwu/btc-v1"
   ]
  },
  {
   "cell_type": "code",
   "execution_count": 3,
   "metadata": {},
   "outputs": [],
   "source": [
    "import os\n",
    "import torch\n",
    "import pandas as pd\n",
    "import numpy as np\n",
    "from sklearn.model_selection import train_test_split\n",
    "from torch.utils.data import Dataset, DataLoader\n",
    "from PIL import Image\n",
    "import torchvision.transforms as transforms\n",
    "import torch.nn as nn\n",
    "from torchvision import models\n",
    "# from torchinfo import summary\n",
    "import torch.optim as optim\n",
    "import matplotlib.pyplot as plt"
   ]
  },
  {
   "cell_type": "markdown",
   "metadata": {},
   "source": [
    "# config"
   ]
  },
  {
   "cell_type": "code",
   "execution_count": 4,
   "metadata": {},
   "outputs": [
    {
     "name": "stdout",
     "output_type": "stream",
     "text": [
      "cuda\n"
     ]
    }
   ],
   "source": [
    "normal_folder_path = \"../Brain_Tumor_MRI/Data/Normal\"\n",
    "tumor_folder_path = \"../Brain_Tumor_MRI/Data/Tumor\"\n",
    "\n",
    "train_size = 0.80\n",
    "batch_size = 32 #크기증가 gpu활용 증가\n",
    "num_epochs = 10\n",
    "learning_rate = 0.001\n",
    "device = torch.device('cuda' if torch.cuda.is_available() else 'cpu')\n",
    "\n",
    "print(device)\n",
    "\n",
    "transform = transforms.Compose([\n",
    "    transforms.Resize((256, 256)),\n",
    "    transforms.ToTensor(),\n",
    "    transforms.Normalize(mean=[0.485, 0.456, 0.406], std=[0.229, 0.224, 0.225]),\n",
    "])"
   ]
  },
  {
   "cell_type": "markdown",
   "metadata": {},
   "source": [
    "# Processing File Paths of our Dataset"
   ]
  },
  {
   "cell_type": "code",
   "execution_count": 4,
   "metadata": {},
   "outputs": [
    {
     "data": {
      "text/plain": [
       "(18606, 2)"
      ]
     },
     "execution_count": 4,
     "metadata": {},
     "output_type": "execute_result"
    }
   ],
   "source": [
    "file_paths = []\n",
    "labels = []\n",
    "\n",
    "for subdir, dirs, files in os.walk(tumor_folder_path):\n",
    "    for file in files:\n",
    "        if file.lower().endswith(('.jpg', '.jpeg', '.png')):\n",
    "            file_paths.append(os.path.join(subdir, file))\n",
    "            labels.append('Tumor')\n",
    "\n",
    "# Create a dataframe\n",
    "df_tumors = pd.DataFrame({\n",
    "    'file_path': file_paths,\n",
    "    'label': labels\n",
    "})\n",
    "df_tumors.shape"
   ]
  },
  {
   "cell_type": "code",
   "execution_count": 5,
   "metadata": {},
   "outputs": [
    {
     "data": {
      "text/html": [
       "<div>\n",
       "<style scoped>\n",
       "    .dataframe tbody tr th:only-of-type {\n",
       "        vertical-align: middle;\n",
       "    }\n",
       "\n",
       "    .dataframe tbody tr th {\n",
       "        vertical-align: top;\n",
       "    }\n",
       "\n",
       "    .dataframe thead th {\n",
       "        text-align: right;\n",
       "    }\n",
       "</style>\n",
       "<table border=\"1\" class=\"dataframe\">\n",
       "  <thead>\n",
       "    <tr style=\"text-align: right;\">\n",
       "      <th></th>\n",
       "      <th>file_path</th>\n",
       "      <th>label</th>\n",
       "    </tr>\n",
       "  </thead>\n",
       "  <tbody>\n",
       "    <tr>\n",
       "      <th>0</th>\n",
       "      <td>../Data/Brain Tumors MRI Dataset/Tumor\\glioma_...</td>\n",
       "      <td>Tumor</td>\n",
       "    </tr>\n",
       "    <tr>\n",
       "      <th>1</th>\n",
       "      <td>../Data/Brain Tumors MRI Dataset/Tumor\\glioma_...</td>\n",
       "      <td>Tumor</td>\n",
       "    </tr>\n",
       "    <tr>\n",
       "      <th>2</th>\n",
       "      <td>../Data/Brain Tumors MRI Dataset/Tumor\\glioma_...</td>\n",
       "      <td>Tumor</td>\n",
       "    </tr>\n",
       "    <tr>\n",
       "      <th>3</th>\n",
       "      <td>../Data/Brain Tumors MRI Dataset/Tumor\\glioma_...</td>\n",
       "      <td>Tumor</td>\n",
       "    </tr>\n",
       "    <tr>\n",
       "      <th>4</th>\n",
       "      <td>../Data/Brain Tumors MRI Dataset/Tumor\\glioma_...</td>\n",
       "      <td>Tumor</td>\n",
       "    </tr>\n",
       "  </tbody>\n",
       "</table>\n",
       "</div>"
      ],
      "text/plain": [
       "                                           file_path  label\n",
       "0  ../Data/Brain Tumors MRI Dataset/Tumor\\glioma_...  Tumor\n",
       "1  ../Data/Brain Tumors MRI Dataset/Tumor\\glioma_...  Tumor\n",
       "2  ../Data/Brain Tumors MRI Dataset/Tumor\\glioma_...  Tumor\n",
       "3  ../Data/Brain Tumors MRI Dataset/Tumor\\glioma_...  Tumor\n",
       "4  ../Data/Brain Tumors MRI Dataset/Tumor\\glioma_...  Tumor"
      ]
     },
     "execution_count": 5,
     "metadata": {},
     "output_type": "execute_result"
    }
   ],
   "source": [
    "df_tumors.head()"
   ]
  },
  {
   "cell_type": "code",
   "execution_count": 6,
   "metadata": {},
   "outputs": [
    {
     "data": {
      "text/plain": [
       "(3066, 2)"
      ]
     },
     "execution_count": 6,
     "metadata": {},
     "output_type": "execute_result"
    }
   ],
   "source": [
    "normal_file_paths = []\n",
    "normal_labels = []\n",
    "\n",
    "\n",
    "for file in os.listdir(normal_folder_path):\n",
    "    if file.lower().endswith(('.jpg', '.jpeg', '.png')):\n",
    "        normal_file_paths.append(os.path.join(normal_folder_path, file))\n",
    "        normal_labels.append('Normal')\n",
    "\n",
    "df_normal = pd.DataFrame({\n",
    "    'file_path': normal_file_paths,\n",
    "    'label': normal_labels\n",
    "})\n",
    "df_normal.shape"
   ]
  },
  {
   "cell_type": "code",
   "execution_count": 7,
   "metadata": {},
   "outputs": [
    {
     "data": {
      "text/plain": [
       "(21672, 2)"
      ]
     },
     "execution_count": 7,
     "metadata": {},
     "output_type": "execute_result"
    }
   ],
   "source": [
    "df_merged = pd.concat([df_tumors, df_normal], ignore_index=True)\n",
    "df_merged.shape"
   ]
  },
  {
   "cell_type": "code",
   "execution_count": 8,
   "metadata": {},
   "outputs": [
    {
     "data": {
      "text/html": [
       "<div>\n",
       "<style scoped>\n",
       "    .dataframe tbody tr th:only-of-type {\n",
       "        vertical-align: middle;\n",
       "    }\n",
       "\n",
       "    .dataframe tbody tr th {\n",
       "        vertical-align: top;\n",
       "    }\n",
       "\n",
       "    .dataframe thead th {\n",
       "        text-align: right;\n",
       "    }\n",
       "</style>\n",
       "<table border=\"1\" class=\"dataframe\">\n",
       "  <thead>\n",
       "    <tr style=\"text-align: right;\">\n",
       "      <th></th>\n",
       "      <th>file_path</th>\n",
       "      <th>label</th>\n",
       "    </tr>\n",
       "  </thead>\n",
       "  <tbody>\n",
       "    <tr>\n",
       "      <th>0</th>\n",
       "      <td>../Data/Brain Tumors MRI Dataset/Tumor\\glioma_...</td>\n",
       "      <td>Tumor</td>\n",
       "    </tr>\n",
       "    <tr>\n",
       "      <th>1</th>\n",
       "      <td>../Data/Brain Tumors MRI Dataset/Tumor\\glioma_...</td>\n",
       "      <td>Tumor</td>\n",
       "    </tr>\n",
       "    <tr>\n",
       "      <th>2</th>\n",
       "      <td>../Data/Brain Tumors MRI Dataset/Tumor\\glioma_...</td>\n",
       "      <td>Tumor</td>\n",
       "    </tr>\n",
       "    <tr>\n",
       "      <th>3</th>\n",
       "      <td>../Data/Brain Tumors MRI Dataset/Tumor\\glioma_...</td>\n",
       "      <td>Tumor</td>\n",
       "    </tr>\n",
       "    <tr>\n",
       "      <th>4</th>\n",
       "      <td>../Data/Brain Tumors MRI Dataset/Tumor\\glioma_...</td>\n",
       "      <td>Tumor</td>\n",
       "    </tr>\n",
       "  </tbody>\n",
       "</table>\n",
       "</div>"
      ],
      "text/plain": [
       "                                           file_path  label\n",
       "0  ../Data/Brain Tumors MRI Dataset/Tumor\\glioma_...  Tumor\n",
       "1  ../Data/Brain Tumors MRI Dataset/Tumor\\glioma_...  Tumor\n",
       "2  ../Data/Brain Tumors MRI Dataset/Tumor\\glioma_...  Tumor\n",
       "3  ../Data/Brain Tumors MRI Dataset/Tumor\\glioma_...  Tumor\n",
       "4  ../Data/Brain Tumors MRI Dataset/Tumor\\glioma_...  Tumor"
      ]
     },
     "execution_count": 8,
     "metadata": {},
     "output_type": "execute_result"
    }
   ],
   "source": [
    "df_merged.head()"
   ]
  },
  {
   "cell_type": "code",
   "execution_count": 9,
   "metadata": {},
   "outputs": [
    {
     "data": {
      "text/html": [
       "<div>\n",
       "<style scoped>\n",
       "    .dataframe tbody tr th:only-of-type {\n",
       "        vertical-align: middle;\n",
       "    }\n",
       "\n",
       "    .dataframe tbody tr th {\n",
       "        vertical-align: top;\n",
       "    }\n",
       "\n",
       "    .dataframe thead th {\n",
       "        text-align: right;\n",
       "    }\n",
       "</style>\n",
       "<table border=\"1\" class=\"dataframe\">\n",
       "  <thead>\n",
       "    <tr style=\"text-align: right;\">\n",
       "      <th></th>\n",
       "      <th>file_path</th>\n",
       "      <th>label</th>\n",
       "    </tr>\n",
       "  </thead>\n",
       "  <tbody>\n",
       "    <tr>\n",
       "      <th>21667</th>\n",
       "      <td>../Data/Brain Tumors MRI Dataset/Normal\\N_9_DA...</td>\n",
       "      <td>Normal</td>\n",
       "    </tr>\n",
       "    <tr>\n",
       "      <th>21668</th>\n",
       "      <td>../Data/Brain Tumors MRI Dataset/Normal\\N_9_HF...</td>\n",
       "      <td>Normal</td>\n",
       "    </tr>\n",
       "    <tr>\n",
       "      <th>21669</th>\n",
       "      <td>../Data/Brain Tumors MRI Dataset/Normal\\N_9_RO...</td>\n",
       "      <td>Normal</td>\n",
       "    </tr>\n",
       "    <tr>\n",
       "      <th>21670</th>\n",
       "      <td>../Data/Brain Tumors MRI Dataset/Normal\\N_9_SP...</td>\n",
       "      <td>Normal</td>\n",
       "    </tr>\n",
       "    <tr>\n",
       "      <th>21671</th>\n",
       "      <td>../Data/Brain Tumors MRI Dataset/Normal\\N_9_VF...</td>\n",
       "      <td>Normal</td>\n",
       "    </tr>\n",
       "  </tbody>\n",
       "</table>\n",
       "</div>"
      ],
      "text/plain": [
       "                                               file_path   label\n",
       "21667  ../Data/Brain Tumors MRI Dataset/Normal\\N_9_DA...  Normal\n",
       "21668  ../Data/Brain Tumors MRI Dataset/Normal\\N_9_HF...  Normal\n",
       "21669  ../Data/Brain Tumors MRI Dataset/Normal\\N_9_RO...  Normal\n",
       "21670  ../Data/Brain Tumors MRI Dataset/Normal\\N_9_SP...  Normal\n",
       "21671  ../Data/Brain Tumors MRI Dataset/Normal\\N_9_VF...  Normal"
      ]
     },
     "execution_count": 9,
     "metadata": {},
     "output_type": "execute_result"
    }
   ],
   "source": [
    "df_merged.tail()"
   ]
  },
  {
   "cell_type": "markdown",
   "metadata": {},
   "source": [
    "# Custom DataLoader"
   ]
  },
  {
   "cell_type": "code",
   "execution_count": 10,
   "metadata": {},
   "outputs": [],
   "source": [
    "class BrainTumorDataset(Dataset):\n",
    "    def __init__(self, dataframe, transform=None):\n",
    "        self.dataframe = dataframe\n",
    "        self.transform = transform\n",
    "\n",
    "    def __len__(self):\n",
    "        return len(self.dataframe)\n",
    "\n",
    "    def __getitem__(self, idx):\n",
    "        img_name = self.dataframe.iloc[idx, 0]\n",
    "        image = Image.open(img_name)\n",
    "        label = self.dataframe.iloc[idx, 1]\n",
    "\n",
    "        if self.transform:\n",
    "            image = self.transform(image)\n",
    "        \n",
    "        # Converting labels to'Normal' as 0 and 'Tumor' as 1\n",
    "        label = torch.tensor(1 if label == 'Tumor' else 0, dtype=torch.long)\n",
    "        \n",
    "        return image, label"
   ]
  },
  {
   "cell_type": "markdown",
   "metadata": {},
   "source": [
    "### Splitting Dataframe"
   ]
  },
  {
   "cell_type": "code",
   "execution_count": 11,
   "metadata": {},
   "outputs": [],
   "source": [
    "train_df, val_df = train_test_split(df_merged, test_size=(1-train_size), random_state=42, stratify=df_merged['label'])"
   ]
  },
  {
   "cell_type": "code",
   "execution_count": 12,
   "metadata": {},
   "outputs": [
    {
     "data": {
      "text/html": [
       "<div>\n",
       "<style scoped>\n",
       "    .dataframe tbody tr th:only-of-type {\n",
       "        vertical-align: middle;\n",
       "    }\n",
       "\n",
       "    .dataframe tbody tr th {\n",
       "        vertical-align: top;\n",
       "    }\n",
       "\n",
       "    .dataframe thead th {\n",
       "        text-align: right;\n",
       "    }\n",
       "</style>\n",
       "<table border=\"1\" class=\"dataframe\">\n",
       "  <thead>\n",
       "    <tr style=\"text-align: right;\">\n",
       "      <th></th>\n",
       "      <th>file_path</th>\n",
       "      <th>label</th>\n",
       "    </tr>\n",
       "  </thead>\n",
       "  <tbody>\n",
       "    <tr>\n",
       "      <th>15783</th>\n",
       "      <td>../Data/Brain Tumors MRI Dataset/Tumor\\pituita...</td>\n",
       "      <td>Tumor</td>\n",
       "    </tr>\n",
       "    <tr>\n",
       "      <th>12448</th>\n",
       "      <td>../Data/Brain Tumors MRI Dataset/Tumor\\meningi...</td>\n",
       "      <td>Tumor</td>\n",
       "    </tr>\n",
       "    <tr>\n",
       "      <th>6025</th>\n",
       "      <td>../Data/Brain Tumors MRI Dataset/Tumor\\glioma_...</td>\n",
       "      <td>Tumor</td>\n",
       "    </tr>\n",
       "    <tr>\n",
       "      <th>19851</th>\n",
       "      <td>../Data/Brain Tumors MRI Dataset/Normal\\N_260_...</td>\n",
       "      <td>Normal</td>\n",
       "    </tr>\n",
       "    <tr>\n",
       "      <th>6275</th>\n",
       "      <td>../Data/Brain Tumors MRI Dataset/Tumor\\glioma_...</td>\n",
       "      <td>Tumor</td>\n",
       "    </tr>\n",
       "  </tbody>\n",
       "</table>\n",
       "</div>"
      ],
      "text/plain": [
       "                                               file_path   label\n",
       "15783  ../Data/Brain Tumors MRI Dataset/Tumor\\pituita...   Tumor\n",
       "12448  ../Data/Brain Tumors MRI Dataset/Tumor\\meningi...   Tumor\n",
       "6025   ../Data/Brain Tumors MRI Dataset/Tumor\\glioma_...   Tumor\n",
       "19851  ../Data/Brain Tumors MRI Dataset/Normal\\N_260_...  Normal\n",
       "6275   ../Data/Brain Tumors MRI Dataset/Tumor\\glioma_...   Tumor"
      ]
     },
     "execution_count": 12,
     "metadata": {},
     "output_type": "execute_result"
    }
   ],
   "source": [
    "train_df.head()"
   ]
  },
  {
   "cell_type": "code",
   "execution_count": 13,
   "metadata": {},
   "outputs": [
    {
     "data": {
      "text/html": [
       "<div>\n",
       "<style scoped>\n",
       "    .dataframe tbody tr th:only-of-type {\n",
       "        vertical-align: middle;\n",
       "    }\n",
       "\n",
       "    .dataframe tbody tr th {\n",
       "        vertical-align: top;\n",
       "    }\n",
       "\n",
       "    .dataframe thead th {\n",
       "        text-align: right;\n",
       "    }\n",
       "</style>\n",
       "<table border=\"1\" class=\"dataframe\">\n",
       "  <thead>\n",
       "    <tr style=\"text-align: right;\">\n",
       "      <th></th>\n",
       "      <th>file_path</th>\n",
       "      <th>label</th>\n",
       "    </tr>\n",
       "  </thead>\n",
       "  <tbody>\n",
       "    <tr>\n",
       "      <th>14138</th>\n",
       "      <td>../Data/Brain Tumors MRI Dataset/Tumor\\pituita...</td>\n",
       "      <td>Tumor</td>\n",
       "    </tr>\n",
       "    <tr>\n",
       "      <th>8683</th>\n",
       "      <td>../Data/Brain Tumors MRI Dataset/Tumor\\meningi...</td>\n",
       "      <td>Tumor</td>\n",
       "    </tr>\n",
       "    <tr>\n",
       "      <th>18670</th>\n",
       "      <td>../Data/Brain Tumors MRI Dataset/Normal\\N_108_...</td>\n",
       "      <td>Normal</td>\n",
       "    </tr>\n",
       "    <tr>\n",
       "      <th>9663</th>\n",
       "      <td>../Data/Brain Tumors MRI Dataset/Tumor\\meningi...</td>\n",
       "      <td>Tumor</td>\n",
       "    </tr>\n",
       "    <tr>\n",
       "      <th>8671</th>\n",
       "      <td>../Data/Brain Tumors MRI Dataset/Tumor\\meningi...</td>\n",
       "      <td>Tumor</td>\n",
       "    </tr>\n",
       "  </tbody>\n",
       "</table>\n",
       "</div>"
      ],
      "text/plain": [
       "                                               file_path   label\n",
       "14138  ../Data/Brain Tumors MRI Dataset/Tumor\\pituita...   Tumor\n",
       "8683   ../Data/Brain Tumors MRI Dataset/Tumor\\meningi...   Tumor\n",
       "18670  ../Data/Brain Tumors MRI Dataset/Normal\\N_108_...  Normal\n",
       "9663   ../Data/Brain Tumors MRI Dataset/Tumor\\meningi...   Tumor\n",
       "8671   ../Data/Brain Tumors MRI Dataset/Tumor\\meningi...   Tumor"
      ]
     },
     "execution_count": 13,
     "metadata": {},
     "output_type": "execute_result"
    }
   ],
   "source": [
    "# head 하니까 label에 하나만 나와서 tail사용\n",
    "val_df.tail()"
   ]
  },
  {
   "cell_type": "code",
   "execution_count": 14,
   "metadata": {},
   "outputs": [],
   "source": [
    "train_dataset = BrainTumorDataset(dataframe=train_df, transform=transform)\n",
    "val_dataset = BrainTumorDataset(dataframe=val_df, transform=transform)\n",
    "\n",
    "train_loader = DataLoader(train_dataset, batch_size=batch_size, shuffle=True)\n",
    "val_loader = DataLoader(val_dataset, batch_size=batch_size, shuffle=False)"
   ]
  },
  {
   "cell_type": "code",
   "execution_count": 15,
   "metadata": {},
   "outputs": [
    {
     "name": "stdout",
     "output_type": "stream",
     "text": [
      "Number of images in the training dataloader: 17337\n",
      "Number of images in the validation dataloader: 4335\n"
     ]
    }
   ],
   "source": [
    "num_train_images = len(train_loader.dataset)\n",
    "num_val_images = len(val_loader.dataset)\n",
    "\n",
    "print(f\"Number of images in the training dataloader: {num_train_images}\")\n",
    "print(f\"Number of images in the validation dataloader: {num_val_images}\")"
   ]
  },
  {
   "cell_type": "markdown",
   "metadata": {},
   "source": [
    "# Pre-trained Mode"
   ]
  },
  {
   "cell_type": "code",
   "execution_count": 16,
   "metadata": {},
   "outputs": [],
   "source": [
    "def resNet50():\n",
    "\n",
    "    ResNet50 = models.resnet50(weights=models.ResNet50_Weights.IMAGENET1K_V1)\n",
    "    \n",
    "    for param in ResNet50.parameters():\n",
    "        param.requires_grad = False\n",
    "\n",
    "    for param in ResNet50.fc.parameters():\n",
    "        param.requires_grad = True\n",
    "\n",
    "    in_features = ResNet50.fc.in_features\n",
    "    ResNet50.fc = nn.Linear(in_features, 2)\n",
    "\n",
    "    return ResNet50"
   ]
  },
  {
   "cell_type": "code",
   "execution_count": 17,
   "metadata": {},
   "outputs": [],
   "source": [
    "model = resNet50().to(device)\n",
    "# summary(model, input_size=(32, 3, 256, 256), col_names=[\"input_size\", \"output_size\", \"num_params\", \"trainable\"], col_width=20, row_settings=[\"var_names\"])"
   ]
  },
  {
   "cell_type": "markdown",
   "metadata": {},
   "source": [
    "### Training Model"
   ]
  },
  {
   "cell_type": "code",
   "execution_count": 18,
   "metadata": {},
   "outputs": [
    {
     "name": "stdout",
     "output_type": "stream",
     "text": [
      "Epoch [1/10], Train Loss: 0.2048, Validation Loss: 0.2155, Train Accuracy: 91.69%, Validation Accuracy: 90.63%\n",
      "Saved better model with accuracy: 90.63%\n",
      "Epoch [2/10], Train Loss: 0.1544, Validation Loss: 0.1209, Train Accuracy: 93.86%, Validation Accuracy: 95.57%\n",
      "Saved better model with accuracy: 95.57%\n",
      "Epoch [3/10], Train Loss: 0.1381, Validation Loss: 0.1319, Train Accuracy: 94.62%, Validation Accuracy: 95.09%\n",
      "Epoch [4/10], Train Loss: 0.1262, Validation Loss: 0.1063, Train Accuracy: 95.15%, Validation Accuracy: 95.85%\n",
      "Saved better model with accuracy: 95.85%\n",
      "Epoch [5/10], Train Loss: 0.1275, Validation Loss: 0.1089, Train Accuracy: 95.10%, Validation Accuracy: 96.01%\n",
      "Saved better model with accuracy: 96.01%\n",
      "Epoch [6/10], Train Loss: 0.1178, Validation Loss: 0.1450, Train Accuracy: 95.39%, Validation Accuracy: 94.60%\n",
      "Epoch [7/10], Train Loss: 0.1175, Validation Loss: 0.1018, Train Accuracy: 95.39%, Validation Accuracy: 96.08%\n",
      "Saved better model with accuracy: 96.08%\n",
      "Epoch [8/10], Train Loss: 0.1104, Validation Loss: 0.1063, Train Accuracy: 95.73%, Validation Accuracy: 95.89%\n",
      "Epoch [9/10], Train Loss: 0.1125, Validation Loss: 0.0936, Train Accuracy: 95.70%, Validation Accuracy: 96.38%\n",
      "Saved better model with accuracy: 96.38%\n",
      "Epoch [10/10], Train Loss: 0.1037, Validation Loss: 0.1007, Train Accuracy: 95.89%, Validation Accuracy: 96.29%\n"
     ]
    }
   ],
   "source": [
    "criterion = nn.CrossEntropyLoss()\n",
    "optimizer = optim.Adam(model.fc.parameters(), lr=learning_rate)\n",
    "\n",
    "best_accuracy = 0.0\n",
    "best_model_path = \"../Vision/Brain_Tumor_MRI/result_model/best_model.pth\"\n",
    "# best_model_path = f\"../Vision/Brain_Tumor_MRI/result_model/best_model.pth\",batch_size,num_epochs,learning_rate\n",
    "train_losses, val_losses, train_accuracies, val_accuracies = [], [], [], []\n",
    "\n",
    "# Training loop\n",
    "for epoch in range(num_epochs):\n",
    "    model.train()\n",
    "    total_loss = 0\n",
    "    correct_train = 0\n",
    "    total_train = 0\n",
    "    for images, labels in train_loader:\n",
    "        images, labels = images.to(device), labels.to(device)\n",
    "\n",
    "        outputs = model(images)\n",
    "        loss = criterion(outputs, labels)\n",
    "        optimizer.zero_grad()\n",
    "        loss.backward()\n",
    "        optimizer.step()\n",
    "\n",
    "        total_loss += loss.item()\n",
    "        _, predicted = torch.max(outputs.data, 1)\n",
    "        total_train += labels.size(0)\n",
    "        correct_train += (predicted == labels).sum().item()\n",
    "\n",
    "    train_loss = total_loss / len(train_loader)\n",
    "    train_accuracy = 100 * correct_train / total_train\n",
    "    train_losses.append(train_loss)\n",
    "    train_accuracies.append(train_accuracy)\n",
    "\n",
    "    # Validation loop\n",
    "    model.eval()\n",
    "    val_loss = 0\n",
    "    correct_val = 0\n",
    "    total_val = 0\n",
    "    with torch.no_grad():\n",
    "        for images, labels in val_loader:\n",
    "            images, labels = images.to(device), labels.to(device)\n",
    "            outputs = model(images)\n",
    "            loss = criterion(outputs, labels)\n",
    "            val_loss += loss.item()\n",
    "            _, predicted = torch.max(outputs.data, 1)\n",
    "            total_val += labels.size(0)\n",
    "            correct_val += (predicted == labels).sum().item()\n",
    "\n",
    "    val_loss /= len(val_loader)\n",
    "    val_accuracy = 100 * correct_val / total_val\n",
    "    val_losses.append(val_loss)\n",
    "    val_accuracies.append(val_accuracy)\n",
    "\n",
    "    print(f'Epoch [{epoch+1}/{num_epochs}], Train Loss: {train_loss:.4f}, Validation Loss: {val_loss:.4f}, Train Accuracy: {train_accuracy:.2f}%, Validation Accuracy: {val_accuracy:.2f}%')\n",
    "\n",
    "    # Saving the best model\n",
    "    if val_accuracy > best_accuracy:\n",
    "        best_accuracy = val_accuracy\n",
    "        torch.save(model.state_dict(), best_model_path)\n",
    "        print(f\"Saved better model with accuracy: {val_accuracy:.2f}%\")"
   ]
  },
  {
   "cell_type": "markdown",
   "metadata": {},
   "source": [
    "### Training & Validation Curves"
   ]
  },
  {
   "cell_type": "code",
   "execution_count": 19,
   "metadata": {},
   "outputs": [
    {
     "data": {
      "image/png": "[encoded data removed]",
      "text/plain": [
       "<Figure size 1000x500 with 1 Axes>"
      ]
     },
     "metadata": {},
     "output_type": "display_data"
    },
    {
     "data": {
      "image/png": "[encoded data removed]",
      "text/plain": [
       "<Figure size 1000x500 with 1 Axes>"
      ]
     },
     "metadata": {},
     "output_type": "display_data"
    }
   ],
   "source": [
    "# Training vs Validation Losses\n",
    "plt.figure(figsize=(10, 5))\n",
    "plt.plot(train_losses, label='Train Loss')\n",
    "plt.plot(val_losses, label='Validation Loss')\n",
    "plt.title('Training vs Validation Loss')\n",
    "plt.xlabel('Epochs')\n",
    "plt.ylabel('Loss')\n",
    "plt.legend()\n",
    "plt.grid(True)\n",
    "plt.show()\n",
    "\n",
    "# Train vs Validation Accuracies\n",
    "plt.figure(figsize=(10, 5))\n",
    "plt.plot(train_accuracies, label='Train Accuracy')\n",
    "plt.plot(val_accuracies, label='Validation Accuracy')\n",
    "plt.title('Training vs Validation Accuracy')\n",
    "plt.xlabel('Epochs')\n",
    "plt.ylabel('Accuracy (%)')\n",
    "plt.legend()\n",
    "plt.grid(True)\n",
    "plt.show()"
   ]
  },
  {
   "cell_type": "markdown",
   "metadata": {},
   "source": [
    "### Single Image Inference"
   ]
  },
  {
   "cell_type": "code",
   "execution_count": 20,
   "metadata": {},
   "outputs": [],
   "source": [
    "from PIL import Image\n",
    "from torchvision import transforms\n",
    "import torch\n",
    "\n",
    "def predict_image(image_path, model_path):\n",
    "    model = resNet50()  \n",
    "    model.load_state_dict(torch.load(model_path))\n",
    "    model = model.to(device)\n",
    "    model.eval()\n",
    "\n",
    "    image = Image.open(image_path)\n",
    "    image = transform(image).unsqueeze(0) \n",
    "    image = image.to(device)\n",
    "\n",
    "    with torch.no_grad():\n",
    "        outputs = model(image)\n",
    "        _, predicted = torch.max(outputs, 1)\n",
    "        \n",
    "    classes = ['Normal', 'Tumor']\n",
    "    result = classes[predicted[0]]\n",
    "    print(f\"The image is classified as: {result}\")"
   ]
  },
  {
   "cell_type": "code",
   "execution_count": 21,
   "metadata": {},
   "outputs": [
    {
     "name": "stdout",
     "output_type": "stream",
     "text": [
      "Randomly selected file: ../Data/Brain Tumors MRI Dataset/Tumor/meningioma_tumor\\M_290_VF_.jpg\n"
     ]
    }
   ],
   "source": [
    "import os\n",
    "import random\n",
    "\n",
    "# 상위 디렉토리 경로\n",
    "base_directory = '../Data/Brain Tumors MRI Dataset/Tumor/'\n",
    "\n",
    "# 하위 디렉토리 목록 가져오기\n",
    "subdirectories = os.listdir(base_directory)\n",
    "\n",
    "# 하위 디렉토리 중에서 랜덤하게 하나 선택\n",
    "random_subdirectory = random.choice(subdirectories)\n",
    "\n",
    "# 선택된 하위 디렉토리의 전체 경로\n",
    "subdirectory_path = os.path.join(base_directory, random_subdirectory)\n",
    "\n",
    "# 선택된 하위 디렉토리 안의 파일 목록 가져오기\n",
    "files = os.listdir(subdirectory_path)\n",
    "\n",
    "# 하위 디렉토리 안에서 랜덤하게 파일 선택\n",
    "random_file = random.choice(files)\n",
    "\n",
    "# 선택된 파일의 전체 경로 출력\n",
    "random_file_path = os.path.join(subdirectory_path, random_file)\n",
    "print(\"Randomly selected file:\", random_file_path)\n"
   ]
  },
  {
   "cell_type": "code",
   "execution_count": 22,
   "metadata": {},
   "outputs": [
    {
     "name": "stdout",
     "output_type": "stream",
     "text": [
      "The image is classified as: Tumor\n"
     ]
    }
   ],
   "source": [
    "best_model_path = \"../Vision/Brain_Tumor_MRI/result_model/best_model.pth\"\n",
    "image_path = \"../Data/Brain Tumors MRI Dataset/Tumor/meningioma_tumor/M_103_BR_.jpg\"\n",
    "\n",
    "predict_image(random_file_path, best_model_path)"
   ]
  },
  {
   "cell_type": "code",
   "execution_count": null,
   "metadata": {},
   "outputs": [],
   "source": []
  }
 ],
 "metadata": {
  "kernelspec": {
   "display_name": "MathAI",
   "language": "python",
   "name": "python3"
  },
  "language_info": {
   "codemirror_mode": {
    "name": "ipython",
    "version": 3
   },
   "file_extension": ".py",
   "mimetype": "text/x-python",
   "name": "python",
   "nbconvert_exporter": "python",
   "pygments_lexer": "ipython3",
   "version": "3.10.13"
  }
 },
 "nbformat": 4,
 "nbformat_minor": 2
}
